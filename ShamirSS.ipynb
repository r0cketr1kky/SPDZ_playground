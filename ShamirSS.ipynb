{
 "cells": [
  {
   "cell_type": "code",
   "execution_count": 1,
   "metadata": {},
   "outputs": [
    {
     "name": "stdout",
     "output_type": "stream",
     "text": [
      "\u001b[32m\u001b[1m  Updating\u001b[22m\u001b[39m registry at `~/.julia/registries/General`\n",
      "\u001b[32m\u001b[1m  Updating\u001b[22m\u001b[39m git-repo `https://github.com/JuliaRegistries/General.git`\n",
      "\u001b[?25l\u001b[2K\u001b[?25h\u001b[32m\u001b[1m Resolving\u001b[22m\u001b[39m package versions...\n",
      "\u001b[32m\u001b[1m Installed\u001b[22m\u001b[39m PlotThemes ─ v1.0.3\n",
      "\u001b[32m\u001b[1m Installed\u001b[22m\u001b[39m Parsers ──── v1.0.1\n",
      "\u001b[32m\u001b[1m Installed\u001b[22m\u001b[39m PlotUtils ── v0.6.5\n",
      "\u001b[32m\u001b[1m  Updating\u001b[22m\u001b[39m `~/.julia/environments/v1.0/Project.toml`\n",
      " \u001b[90m [f27b6e38]\u001b[39m\u001b[92m + Polynomials v0.6.1\u001b[39m\n",
      "\u001b[32m\u001b[1m  Updating\u001b[22m\u001b[39m `~/.julia/environments/v1.0/Manifest.toml`\n",
      " \u001b[90m [69de0a69]\u001b[39m\u001b[93m ↑ Parsers v1.0.0 ⇒ v1.0.1\u001b[39m\n",
      " \u001b[90m [ccf2f8ad]\u001b[39m\u001b[93m ↑ PlotThemes v1.0.2 ⇒ v1.0.3\u001b[39m\n",
      " \u001b[90m [995b91a9]\u001b[39m\u001b[93m ↑ PlotUtils v0.6.4 ⇒ v0.6.5\u001b[39m\n",
      " \u001b[90m [f27b6e38]\u001b[39m\u001b[92m + Polynomials v0.6.1\u001b[39m\n"
     ]
    },
    {
     "name": "stderr",
     "output_type": "stream",
     "text": [
      "┌ Info: Precompiling Polynomials [f27b6e38-b328-58d1-80ce-0feddd5e7a45]\n",
      "└ @ Base loading.jl:1192\n"
     ]
    }
   ],
   "source": [
    "using Pkg\n",
    "Pkg.add(\"Polynomials\")\n",
    "using Polynomials"
   ]
  },
  {
   "cell_type": "code",
   "execution_count": 263,
   "metadata": {},
   "outputs": [
    {
     "data": {
      "text/plain": [
       "l (generic function with 1 method)"
      ]
     },
     "execution_count": 263,
     "metadata": {},
     "output_type": "execute_result"
    }
   ],
   "source": [
    "function l(x, j, k)\n",
    "\"\"\"\n",
    "    Create a Lagrange basis polynomial\n",
    "    Reference: https://wikimedia.org/api/rest_v1/media/math/render/svg/6e2c3a2ab16a8723c0446de6a30da839198fb04b\n",
    "\"\"\" \n",
    "    polys = []\n",
    "    for m in 1:k       \n",
    "        if m != j\n",
    "            d = x[j] - x[m]\n",
    "            r = Poly([-1 * x[m], 1]) / d\n",
    "            push!(polys, r)            \n",
    "        end\n",
    "    end\n",
    "        \n",
    "    #println(polys)\n",
    "    \n",
    "    return prod(polys)\n",
    "end"
   ]
  },
  {
   "cell_type": "code",
   "execution_count": 264,
   "metadata": {},
   "outputs": [
    {
     "data": {
      "text/plain": [
       "3-element Array{Int32,1}:\n",
       " 2\n",
       " 4\n",
       " 5"
      ]
     },
     "execution_count": 264,
     "metadata": {},
     "output_type": "execute_result"
    }
   ],
   "source": [
    "x = [2, 4, 5]"
   ]
  },
  {
   "cell_type": "code",
   "execution_count": 265,
   "metadata": {},
   "outputs": [
    {
     "data": {
      "text/html": [
       "3.3333333333333335 &#45; 1.5&#8729;x &#43; 0.16666666666666666&#8729;x<sup>2</sup>"
      ],
      "text/latex": [
       "$3.3333333333333335 - 1.5\\cdot x + 0.16666666666666666\\cdot x^{2}$"
      ],
      "text/plain": [
       "Poly(3.3333333333333335 - 1.5*x + 0.16666666666666666*x^2)"
      ]
     },
     "execution_count": 265,
     "metadata": {},
     "output_type": "execute_result"
    }
   ],
   "source": [
    "l(x, 1, 3)"
   ]
  },
  {
   "cell_type": "code",
   "execution_count": 266,
   "metadata": {},
   "outputs": [
    {
     "data": {
      "text/html": [
       "&#45;5.0 &#43; 3.5&#8729;x &#45; 0.5&#8729;x<sup>2</sup>"
      ],
      "text/latex": [
       "$-5.0 + 3.5\\cdot x - 0.5\\cdot x^{2}$"
      ],
      "text/plain": [
       "Poly(-5.0 + 3.5*x - 0.5*x^2)"
      ]
     },
     "execution_count": 266,
     "metadata": {},
     "output_type": "execute_result"
    }
   ],
   "source": [
    "l(x, 2, 3)"
   ]
  },
  {
   "cell_type": "code",
   "execution_count": 267,
   "metadata": {},
   "outputs": [
    {
     "data": {
      "text/html": [
       "2.6666666666666665 &#45; 2.0&#8729;x &#43; 0.3333333333333333&#8729;x<sup>2</sup>"
      ],
      "text/latex": [
       "$2.6666666666666665 - 2.0\\cdot x + 0.3333333333333333\\cdot x^{2}$"
      ],
      "text/plain": [
       "Poly(2.6666666666666665 - 2.0*x + 0.3333333333333333*x^2)"
      ]
     },
     "execution_count": 267,
     "metadata": {},
     "output_type": "execute_result"
    }
   ],
   "source": [
    "l(x, 3, 3)"
   ]
  },
  {
   "cell_type": "code",
   "execution_count": 271,
   "metadata": {},
   "outputs": [
    {
     "data": {
      "text/plain": [
       "L (generic function with 1 method)"
      ]
     },
     "execution_count": 271,
     "metadata": {},
     "output_type": "execute_result"
    }
   ],
   "source": [
    "function L(x, y, k)\n",
    "\"\"\"\n",
    "    Create a linear combination of Lagrange basis polynomials\n",
    "    Reference: https://wikimedia.org/api/rest_v1/media/math/render/svg/d07f3378ff7718c345e5d3d4a57d3053190226a0\n",
    "\"\"\"\n",
    "    \n",
    "    s = []\n",
    "    \n",
    "    for j in 1:k\n",
    "        r = y[j] * l(x, j, k)\n",
    "        push!(s, r)\n",
    "    end\n",
    "    \n",
    "    #println(sum(s))\n",
    "    \n",
    "    return sum(s)\n",
    "end"
   ]
  },
  {
   "cell_type": "code",
   "execution_count": 272,
   "metadata": {},
   "outputs": [
    {
     "data": {
      "text/plain": [
       "3-element Array{Int32,1}:\n",
       " 1942\n",
       " 3402\n",
       " 4414"
      ]
     },
     "execution_count": 272,
     "metadata": {},
     "output_type": "execute_result"
    }
   ],
   "source": [
    "y = [1942, 3402, 4414]\n",
    "y"
   ]
  },
  {
   "cell_type": "code",
   "execution_count": 273,
   "metadata": {},
   "outputs": [
    {
     "data": {
      "text/html": [
       "1234.0 &#43; 166.0&#8729;x &#43; 93.99999999999977&#8729;x<sup>2</sup>"
      ],
      "text/latex": [
       "$1234.0 + 166.0\\cdot x + 93.99999999999977\\cdot x^{2}$"
      ],
      "text/plain": [
       "Poly(1234.0 + 166.0*x + 93.99999999999977*x^2)"
      ]
     },
     "execution_count": 273,
     "metadata": {},
     "output_type": "execute_result"
    }
   ],
   "source": [
    "L(x, y, 3)"
   ]
  },
  {
   "cell_type": "code",
   "execution_count": 274,
   "metadata": {},
   "outputs": [
    {
     "data": {
      "text/plain": [
       "1613"
      ]
     },
     "execution_count": 274,
     "metadata": {},
     "output_type": "execute_result"
    }
   ],
   "source": [
    "\"\"\"\n",
    "S: secret\n",
    "n: total number of shares\n",
    "k: recovery threshold\n",
    "p: prime, where p > S and p > n\n",
    "\"\"\"\n",
    "S = 1234\n",
    "n = 6\n",
    "k = 3\n",
    "p = 1613"
   ]
  },
  {
   "cell_type": "code",
   "execution_count": 275,
   "metadata": {},
   "outputs": [
    {
     "data": {
      "text/html": [
       "1234 &#43; 166&#8729;x &#43; 94&#8729;x<sup>2</sup>"
      ],
      "text/latex": [
       "$1234 + 166\\cdot x + 94\\cdot x^{2}$"
      ],
      "text/plain": [
       "Poly(1234 + 166*x + 94*x^2)"
      ]
     },
     "execution_count": 275,
     "metadata": {},
     "output_type": "execute_result"
    }
   ],
   "source": [
    "production_coeffs = [1234, 166, 94]\n",
    "production_poly = Poly(production_coeffs)"
   ]
  },
  {
   "cell_type": "code",
   "execution_count": 276,
   "metadata": {},
   "outputs": [
    {
     "data": {
      "text/plain": [
       "construct_shares (generic function with 1 method)"
      ]
     },
     "execution_count": 276,
     "metadata": {},
     "output_type": "execute_result"
    }
   ],
   "source": [
    "function construct_shares()\n",
    "    \n",
    "    share = []\n",
    "    \n",
    "    for i in 1:n\n",
    "        push!(share, [i, production_poly(i)])\n",
    "    end\n",
    "    \n",
    "    return share\n",
    "end"
   ]
  },
  {
   "cell_type": "code",
   "execution_count": 277,
   "metadata": {},
   "outputs": [
    {
     "data": {
      "text/plain": [
       "6-element Array{Any,1}:\n",
       " [1, 1494]\n",
       " [2, 1942]\n",
       " [3, 2578]\n",
       " [4, 3402]\n",
       " [5, 4414]\n",
       " [6, 5614]"
      ]
     },
     "execution_count": 277,
     "metadata": {},
     "output_type": "execute_result"
    }
   ],
   "source": [
    "shares = construct_shares()"
   ]
  },
  {
   "cell_type": "code",
   "execution_count": 282,
   "metadata": {},
   "outputs": [
    {
     "data": {
      "text/plain": [
       "reconstruct_shares (generic function with 1 method)"
      ]
     },
     "execution_count": 282,
     "metadata": {},
     "output_type": "execute_result"
    }
   ],
   "source": [
    "function reconstruct_shares(shares)\n",
    "    \n",
    "    if length(shares) < k\n",
    "        throw(\"Need more parties!\")\n",
    "    end\n",
    "    \n",
    "    x = []\n",
    "    y = []\n",
    "    for i in 1:n\n",
    "        push!(x, shares[i][1])\n",
    "        push!(y, shares[i][2])\n",
    "    end\n",
    "    \n",
    "    f = L(x, y, k)\n",
    "    f = mod(f(0), p)\n",
    "    \n",
    "    return f\n",
    "end"
   ]
  },
  {
   "cell_type": "code",
   "execution_count": 283,
   "metadata": {},
   "outputs": [
    {
     "data": {
      "text/plain": [
       "1234.0"
      ]
     },
     "execution_count": 283,
     "metadata": {},
     "output_type": "execute_result"
    }
   ],
   "source": [
    "reconstruct_shares(shares)"
   ]
  },
  {
   "cell_type": "code",
   "execution_count": 284,
   "metadata": {},
   "outputs": [],
   "source": [
    "#1234 WAS THE SECRET AND HERE YOU CAN SEE IT IS RECONSTRUCTED\n",
    "#FROM THE SHARES THAT WERE GENERATED FROM ALL THE 6 PARTIES\n",
    "#WITH A MINIMUM OF 3 PARTIES REQUIRED TO OPEN THE SECRET!!!"
   ]
  },
  {
   "cell_type": "code",
   "execution_count": 285,
   "metadata": {},
   "outputs": [
    {
     "ename": "String",
     "evalue": "\"Need more parties!\"",
     "output_type": "error",
     "traceback": [
      "\"Need more parties!\"",
      "",
      "Stacktrace:",
      " [1] reconstruct_shares(::Array{Array{Int32,1},1}) at ./In[282]:4",
      " [2] top-level scope at In[285]:2"
     ]
    }
   ],
   "source": [
    "shares = [[1, 1494], [2, 367]]\n",
    "reconstruct_shares(shares)"
   ]
  },
  {
   "cell_type": "code",
   "execution_count": 286,
   "metadata": {},
   "outputs": [],
   "source": [
    "#HERE, AS YOU CAN SEE THERE IS AN EXCEPTION THROWN BECAUSE\n",
    "#THE NUMBER OF PARTIES IN THIS SHARE IS 2 BUT WE REQUIRE A\n",
    "#MINIMUM NUMBER OF 3 PARTIES TO UNRAVEL THE SECRET VALUE!!!"
   ]
  },
  {
   "cell_type": "code",
   "execution_count": null,
   "metadata": {},
   "outputs": [],
   "source": []
  }
 ],
 "metadata": {
  "kernelspec": {
   "display_name": "Julia 1.0.4",
   "language": "julia",
   "name": "julia-1.0"
  },
  "language_info": {
   "file_extension": ".jl",
   "mimetype": "application/julia",
   "name": "julia",
   "version": "1.0.4"
  }
 },
 "nbformat": 4,
 "nbformat_minor": 2
}
