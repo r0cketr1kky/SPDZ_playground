{
 "cells": [
  {
   "cell_type": "code",
   "execution_count": 2,
   "metadata": {},
   "outputs": [],
   "source": [
    "###AN IMPLEMENTATION OF THE FAN-VERCAUTEREN \n",
    "# ENCRYPTION AND DECRYPTION SCHEME"
   ]
  },
  {
   "cell_type": "code",
   "execution_count": 3,
   "metadata": {},
   "outputs": [
    {
     "name": "stdout",
     "output_type": "stream",
     "text": [
      "\u001b[32m\u001b[1m  Updating\u001b[22m\u001b[39m registry at `~/.julia/registries/General`\n",
      "\u001b[32m\u001b[1m  Updating\u001b[22m\u001b[39m git-repo `https://github.com/JuliaRegistries/General.git`\n",
      "\u001b[2K\u001b[?25h[1mFetching:\u001b[22m\u001b[39m [========================================>]  99.9 %0.0 %\u001b[36m\u001b[1mFetching:\u001b[22m\u001b[39m [=========>                               ]  21.8 %\u001b[36m\u001b[1mFetching:\u001b[22m\u001b[39m [===========>                             ]  25.6 %\u001b[36m\u001b[1mFetching:\u001b[22m\u001b[39m [=============>                           ]  30.7 %\u001b[36m\u001b[1mFetching:\u001b[22m\u001b[39m [==============>                          ]  34.9 %                   ]  51.6 %\u001b[36m\u001b[1mFetching:\u001b[22m\u001b[39m [=============================>           ]  71.4 %\u001b[36m\u001b[1mFetching:\u001b[22m\u001b[39m [==============================>          ]  72.8 %\u001b[36m\u001b[1mFetching:\u001b[22m\u001b[39m [==============================>          ]  74.1 %\u001b[36m\u001b[1mFetching:\u001b[22m\u001b[39m [==============================>          ]  74.6 %\u001b[36m\u001b[1mFetching:\u001b[22m\u001b[39m [=================================>       ]  82.2 %\u001b[32m\u001b[1m Resolving\u001b[22m\u001b[39m package versions...\n",
      "\u001b[32m\u001b[1m Installed\u001b[22m\u001b[39m URIParser ─ v0.4.1\n",
      "\u001b[32m\u001b[1m Installed\u001b[22m\u001b[39m DataAPI ─── v1.2.0\n",
      "\u001b[32m\u001b[1m Installed\u001b[22m\u001b[39m Cassette ── v0.3.3\n",
      "\u001b[32m\u001b[1m  Updating\u001b[22m\u001b[39m `~/.julia/environments/v1.0/Project.toml`\n",
      "\u001b[90m [no changes]\u001b[39m\n",
      "\u001b[32m\u001b[1m  Updating\u001b[22m\u001b[39m `~/.julia/environments/v1.0/Manifest.toml`\n",
      " \u001b[90m [7057c7e9]\u001b[39m\u001b[93m ↑ Cassette v0.3.1 ⇒ v0.3.3\u001b[39m\n",
      " \u001b[90m [9a962f9c]\u001b[39m\u001b[93m ↑ DataAPI v1.1.0 ⇒ v1.2.0\u001b[39m\n",
      " \u001b[90m [30578b45]\u001b[39m\u001b[93m ↑ URIParser v0.4.0 ⇒ v0.4.1\u001b[39m\n"
     ]
    }
   ],
   "source": [
    "using Pkg\n",
    "Pkg.add(\"Polynomials\")\n",
    "using Polynomials"
   ]
  },
  {
   "cell_type": "code",
   "execution_count": 4,
   "metadata": {},
   "outputs": [
    {
     "data": {
      "text/plain": [
       "make_poly (generic function with 2 methods)"
      ]
     },
     "execution_count": 4,
     "metadata": {},
     "output_type": "execute_result"
    }
   ],
   "source": [
    "function make_poly(n, base=2)\n",
    "   \n",
    "    x = []\n",
    "    \n",
    "    while n != 0\n",
    "        semi = floor(log(base, n))\n",
    "        n -= base^semi\n",
    "        push!(x, semi)        \n",
    "    end\n",
    "    \n",
    "    \n",
    "    x = convert(Array{Int64,1}, x)\n",
    "    x = reverse(x)\n",
    "    \n",
    "    #print(x)\n",
    "    \n",
    "    maxi = maximum(x)\n",
    "    \n",
    "    arr = zeros(maxi+1)\n",
    "    \n",
    "    for i in 1:length(x)\n",
    "        arr[x[i]+1] += 1\n",
    "    end\n",
    "    \n",
    "    arr = convert(Array{Int64,1}, arr)\n",
    "    \n",
    "    poly_arr = Poly(arr)    \n",
    "    \n",
    "    \n",
    "    return poly_arr    \n",
    "end"
   ]
  },
  {
   "cell_type": "code",
   "execution_count": 5,
   "metadata": {},
   "outputs": [
    {
     "data": {
      "text/html": [
       "1 &#43; x &#43; x<sup>3</sup> &#43; x<sup>4</sup>"
      ],
      "text/latex": [
       "$1 + x + x^{3} + x^{4}$"
      ],
      "text/plain": [
       "Poly(1 + x + x^3 + x^4)"
      ]
     },
     "execution_count": 5,
     "metadata": {},
     "output_type": "execute_result"
    }
   ],
   "source": [
    "make_poly(27)"
   ]
  },
  {
   "cell_type": "code",
   "execution_count": 6,
   "metadata": {},
   "outputs": [
    {
     "data": {
      "text/html": [
       "2 &#43; 2&#8729;x &#43; 2&#8729;x<sup>2</sup>"
      ],
      "text/latex": [
       "$2 + 2\\cdot x + 2\\cdot x^{2}$"
      ],
      "text/plain": [
       "Poly(2 + 2*x + 2*x^2)"
      ]
     },
     "execution_count": 6,
     "metadata": {},
     "output_type": "execute_result"
    }
   ],
   "source": [
    "make_poly(26, 3)"
   ]
  },
  {
   "cell_type": "code",
   "execution_count": 7,
   "metadata": {},
   "outputs": [
    {
     "data": {
      "text/html": [
       "x<sup>3</sup> &#43; x<sup>4</sup>"
      ],
      "text/latex": [
       "$x^{3} + x^{4}$"
      ],
      "text/plain": [
       "Poly(x^3 + x^4)"
      ]
     },
     "execution_count": 7,
     "metadata": {},
     "output_type": "execute_result"
    }
   ],
   "source": [
    "make_poly(24, 2)"
   ]
  },
  {
   "cell_type": "code",
   "execution_count": 71,
   "metadata": {},
   "outputs": [
    {
     "data": {
      "text/plain": [
       "make_poly3 (generic function with 1 method)"
      ]
     },
     "execution_count": 71,
     "metadata": {},
     "output_type": "execute_result"
    }
   ],
   "source": [
    "function make_poly3(n, base)\n",
    "    \n",
    "    x = []\n",
    "    c = 0\n",
    "    while n != 0\n",
    "        if n < 0\n",
    "            break\n",
    "        end\n",
    "        semi = ceil(log(base, n))\n",
    "        n -= base^semi\n",
    "        push!(x, semi) \n",
    "        c += 1\n",
    "    end\n",
    "        \n",
    "    #push!(x, n)\n",
    "    \n",
    "    s = x[1] + 1\n",
    "    s = convert(Int64, s)\n",
    "    \n",
    "    #print(s)\n",
    "    \n",
    "    y = zeros(Int64, 1, s)\n",
    "    \n",
    "    y[1] = 1\n",
    "    \n",
    "    y[s] = n  \n",
    "    \n",
    "    #print(y)\n",
    "    #y = Poly(y)\n",
    "    #print(y)\n",
    "    #print(c)\n",
    "    y = vec(y)\n",
    "    y = reverse(y)\n",
    "    #print(y)\n",
    "    pol = Poly(y)\n",
    "    \n",
    "        \n",
    "    return pol\n",
    "end"
   ]
  },
  {
   "cell_type": "code",
   "execution_count": 72,
   "metadata": {},
   "outputs": [
    {
     "data": {
      "text/plain": [
       "make_poly2 (generic function with 2 methods)"
      ]
     },
     "execution_count": 72,
     "metadata": {},
     "output_type": "execute_result"
    }
   ],
   "source": [
    "function make_poly2(n, base=2)\n",
    "   \n",
    "    x = string(n, base=base)\n",
    "    #print(x)\n",
    "    x = [parse(Int64, d) for d in x]\n",
    "    x = reverse(x)\n",
    "\n",
    "\n",
    "    #print(x)\n",
    "    \n",
    "    if mod(base, 2) == 1\n",
    "        for i in 1:length(x)\n",
    "            if x[i] > (-(base - 1)/2) || x[i] < ((base - 1)/2)\n",
    "                return make_poly3(n, base)\n",
    "            end\n",
    "        end\n",
    "    else\n",
    "        for i in 1:length(x)\n",
    "            if x[i] < (-base/2) || x[i] > (base/2)\n",
    "               return make_poly3(n, base)\n",
    "            end\n",
    "        end\n",
    "    end\n",
    "    \n",
    "    poly_arr = Poly(x)\n",
    "    \n",
    "    return poly_arr\n",
    "end"
   ]
  },
  {
   "cell_type": "code",
   "execution_count": 73,
   "metadata": {},
   "outputs": [
    {
     "data": {
      "text/html": [
       "&#45;1 &#43; x<sup>3</sup>"
      ],
      "text/latex": [
       "$-1 + x^{3}$"
      ],
      "text/plain": [
       "Poly(-1 + x^3)"
      ]
     },
     "execution_count": 73,
     "metadata": {},
     "output_type": "execute_result"
    }
   ],
   "source": [
    "make_poly2(26, 3)"
   ]
  },
  {
   "cell_type": "code",
   "execution_count": 74,
   "metadata": {},
   "outputs": [
    {
     "data": {
      "text/html": [
       "x &#43; x<sup>3</sup> &#43; x<sup>4</sup>"
      ],
      "text/latex": [
       "$x + x^{3} + x^{4}$"
      ],
      "text/plain": [
       "Poly(x + x^3 + x^4)"
      ]
     },
     "execution_count": 74,
     "metadata": {},
     "output_type": "execute_result"
    }
   ],
   "source": [
    "make_poly2(26, 2)"
   ]
  },
  {
   "cell_type": "code",
   "execution_count": null,
   "metadata": {},
   "outputs": [],
   "source": []
  },
  {
   "cell_type": "code",
   "execution_count": null,
   "metadata": {},
   "outputs": [],
   "source": []
  }
 ],
 "metadata": {
  "kernelspec": {
   "display_name": "Julia 1.0.4",
   "language": "julia",
   "name": "julia-1.0"
  },
  "language_info": {
   "file_extension": ".jl",
   "mimetype": "application/julia",
   "name": "julia",
   "version": "1.0.4"
  }
 },
 "nbformat": 4,
 "nbformat_minor": 2
}
