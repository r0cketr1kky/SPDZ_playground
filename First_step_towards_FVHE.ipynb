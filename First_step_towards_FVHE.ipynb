{
 "cells": [
  {
   "cell_type": "code",
   "execution_count": 77,
   "metadata": {},
   "outputs": [],
   "source": [
    "###AN IMPLEMENTATION OF THE FAN-VERCAUTEREN \n",
    "# ENCRYPTION AND DECRYPTION SCHEME"
   ]
  },
  {
   "cell_type": "code",
   "execution_count": 78,
   "metadata": {},
   "outputs": [
    {
     "name": "stdout",
     "output_type": "stream",
     "text": [
      "\u001b[32m\u001b[1m Resolving\u001b[22m\u001b[39m package versions...\n",
      "\u001b[32m\u001b[1m  Updating\u001b[22m\u001b[39m `~/.julia/environments/v1.0/Project.toml`\n",
      "\u001b[90m [no changes]\u001b[39m\n",
      "\u001b[32m\u001b[1m  Updating\u001b[22m\u001b[39m `~/.julia/environments/v1.0/Manifest.toml`\n",
      "\u001b[90m [no changes]\u001b[39m\n"
     ]
    }
   ],
   "source": [
    "using Pkg\n",
    "Pkg.add(\"Polynomials\")\n",
    "using Polynomials"
   ]
  },
  {
   "cell_type": "code",
   "execution_count": 107,
   "metadata": {},
   "outputs": [
    {
     "data": {
      "text/plain": [
       "make_poly (generic function with 2 methods)"
      ]
     },
     "execution_count": 107,
     "metadata": {},
     "output_type": "execute_result"
    }
   ],
   "source": [
    "function make_poly(n, base=2)\n",
    "   \n",
    "    x = []\n",
    "    \n",
    "    while n != 0\n",
    "        semi = floor(log(base, n))\n",
    "        n -= base^semi\n",
    "        push!(x, semi)        \n",
    "    end\n",
    "    \n",
    "    \n",
    "    x = convert(Array{Int64,1}, x)\n",
    "    x = reverse(x)\n",
    "    \n",
    "    #print(x)\n",
    "    \n",
    "    maxi = maximum(x)\n",
    "    \n",
    "    arr = zeros(maxi+1)\n",
    "    \n",
    "    for i in 1:length(x)\n",
    "        arr[x[i]+1] += 1\n",
    "    end\n",
    "    \n",
    "    arr = convert(Array{Int64,1}, arr)\n",
    "    \n",
    "    poly_arr = Poly(arr)    \n",
    "    \n",
    "    \n",
    "    return poly_arr    \n",
    "end"
   ]
  },
  {
   "cell_type": "code",
   "execution_count": 108,
   "metadata": {},
   "outputs": [
    {
     "data": {
      "text/html": [
       "1 &#43; x &#43; x<sup>3</sup> &#43; x<sup>4</sup>"
      ],
      "text/latex": [
       "$1 + x + x^{3} + x^{4}$"
      ],
      "text/plain": [
       "Poly(1 + x + x^3 + x^4)"
      ]
     },
     "execution_count": 108,
     "metadata": {},
     "output_type": "execute_result"
    }
   ],
   "source": [
    "make_poly(27)"
   ]
  },
  {
   "cell_type": "code",
   "execution_count": 109,
   "metadata": {},
   "outputs": [
    {
     "data": {
      "text/html": [
       "2 &#43; 2&#8729;x &#43; 2&#8729;x<sup>2</sup>"
      ],
      "text/latex": [
       "$2 + 2\\cdot x + 2\\cdot x^{2}$"
      ],
      "text/plain": [
       "Poly(2 + 2*x + 2*x^2)"
      ]
     },
     "execution_count": 109,
     "metadata": {},
     "output_type": "execute_result"
    }
   ],
   "source": [
    "make_poly(26, 3)"
   ]
  },
  {
   "cell_type": "code",
   "execution_count": 110,
   "metadata": {},
   "outputs": [
    {
     "data": {
      "text/html": [
       "x<sup>3</sup> &#43; x<sup>4</sup>"
      ],
      "text/latex": [
       "$x^{3} + x^{4}$"
      ],
      "text/plain": [
       "Poly(x^3 + x^4)"
      ]
     },
     "execution_count": 110,
     "metadata": {},
     "output_type": "execute_result"
    }
   ],
   "source": [
    "make_poly(24, 2)"
   ]
  },
  {
   "cell_type": "code",
   "execution_count": null,
   "metadata": {},
   "outputs": [],
   "source": []
  }
 ],
 "metadata": {
  "kernelspec": {
   "display_name": "Julia 1.0.4",
   "language": "julia",
   "name": "julia-1.0"
  },
  "language_info": {
   "file_extension": ".jl",
   "mimetype": "application/julia",
   "name": "julia",
   "version": "1.0.4"
  }
 },
 "nbformat": 4,
 "nbformat_minor": 2
}
