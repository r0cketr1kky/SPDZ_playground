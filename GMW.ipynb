{
 "cells": [
  {
   "cell_type": "code",
   "execution_count": 1,
   "metadata": {},
   "outputs": [
    {
     "name": "stdout",
     "output_type": "stream",
     "text": [
      "How many parties?\n",
      "stdin> 2\n"
     ]
    },
    {
     "data": {
      "text/plain": [
       "2"
      ]
     },
     "execution_count": 1,
     "metadata": {},
     "output_type": "execute_result"
    }
   ],
   "source": [
    "println(\"How many parties?\")\n",
    "n = readline()\n",
    "n = parse(Int64, n)"
   ]
  },
  {
   "cell_type": "code",
   "execution_count": 2,
   "metadata": {},
   "outputs": [
    {
     "data": {
      "text/plain": [
       "2-element Array{Any,1}:\n",
       " 1\n",
       " 0"
      ]
     },
     "execution_count": 2,
     "metadata": {},
     "output_type": "execute_result"
    }
   ],
   "source": [
    "# Generating inputs for all parties\n",
    "rnos = rand(Int64, n)\n",
    "inpts = []\n",
    "for i in 1:n\n",
    "    rnos[i] = abs(rnos[i])\n",
    "    push!(inpts, mod(rnos[i], 2))\n",
    "end\n",
    "inpts"
   ]
  },
  {
   "cell_type": "code",
   "execution_count": 3,
   "metadata": {},
   "outputs": [
    {
     "data": {
      "text/plain": [
       "2-element Array{Any,1}:\n",
       " Int64[1, 0]\n",
       " Int64[0, 0]"
      ]
     },
     "execution_count": 3,
     "metadata": {},
     "output_type": "execute_result"
    }
   ],
   "source": [
    "# Generating shares of the inputs of all parties\n",
    "shar_rand = []\n",
    "shar_inpt = []\n",
    "for i in 1:n\n",
    "    ran = rand(0:rnos[i])\n",
    "    push!(shar_rand, [ran, rnos[i] - ran])\n",
    "    push!(shar_inpt, [mod(ran, 2), mod(rnos[i]-ran, 2)])\n",
    "    \n",
    "end\n",
    "shar_inpt"
   ]
  },
  {
   "cell_type": "code",
   "execution_count": 4,
   "metadata": {},
   "outputs": [
    {
     "data": {
      "text/plain": [
       "2-element Array{Any,1}:\n",
       " Int64[1, 0]\n",
       " Int64[0, 0]"
      ]
     },
     "execution_count": 4,
     "metadata": {},
     "output_type": "execute_result"
    }
   ],
   "source": [
    "# An easier way to do this would be to do some manipulation and transpose the array, \n",
    "# To get all the shares of a single party!\n",
    "party_inps = []\n",
    "push!(party_inps, [shar_inpt[1][1],shar_inpt[2][1]])\n",
    "push!(party_inps, [shar_inpt[1][2],shar_inpt[2][2]])\n",
    "party_inps"
   ]
  },
  {
   "cell_type": "code",
   "execution_count": 5,
   "metadata": {},
   "outputs": [
    {
     "data": {
      "text/plain": [
       "2-element Array{Int64,1}:\n",
       " 1\n",
       " 0"
      ]
     },
     "execution_count": 5,
     "metadata": {},
     "output_type": "execute_result"
    }
   ],
   "source": [
    "party_inps[1]"
   ]
  },
  {
   "cell_type": "code",
   "execution_count": 6,
   "metadata": {},
   "outputs": [
    {
     "data": {
      "text/plain": [
       "2-element Array{Any,1}:\n",
       " 1\n",
       " 0"
      ]
     },
     "execution_count": 6,
     "metadata": {},
     "output_type": "execute_result"
    }
   ],
   "source": [
    "# Addition operation with XOR\n",
    "\n",
    "c = []\n",
    "for i in 1:n\n",
    "    x = foldl(⊻, party_inps[i])\n",
    "    push!(c, x)\n",
    "end\n",
    "c"
   ]
  },
  {
   "cell_type": "code",
   "execution_count": 7,
   "metadata": {},
   "outputs": [
    {
     "data": {
      "text/plain": [
       "1"
      ]
     },
     "execution_count": 7,
     "metadata": {},
     "output_type": "execute_result"
    }
   ],
   "source": [
    "# (a1 xor b1) xor (a2 xor b2) == a xor b\n",
    "xor(1, 0)"
   ]
  },
  {
   "cell_type": "code",
   "execution_count": 8,
   "metadata": {},
   "outputs": [
    {
     "data": {
      "text/plain": [
       "true"
      ]
     },
     "execution_count": 8,
     "metadata": {},
     "output_type": "execute_result"
    }
   ],
   "source": [
    "foldl(⊻, c) == foldl(⊻, inpts)"
   ]
  },
  {
   "cell_type": "code",
   "execution_count": 9,
   "metadata": {},
   "outputs": [],
   "source": [
    "# As each party has shares ai, bi . Each party can find out ai*bi.\n",
    "# But defn of multiplication is a*b = ai*bi + sigma(ai*bj + aj*bi)\n",
    "# j is calculated by 1-out-of-4 OT protocol\n",
    "# For more details, look at the question I asked in the crypto stack exchange\n",
    "# https://crypto.stackexchange.com/questions/79985/gmw-multiplication-and-for-2-parties"
   ]
  },
  {
   "cell_type": "code",
   "execution_count": 15,
   "metadata": {},
   "outputs": [
    {
     "data": {
      "text/plain": [
       "ot (generic function with 2 methods)"
      ]
     },
     "execution_count": 15,
     "metadata": {},
     "output_type": "execute_result"
    }
   ],
   "source": [
    "function ot(inpts, r, a)\n",
    "    \n",
    "    otval = xor(r, a & inpts[2])\n",
    "        \n",
    "    return otval\n",
    "end"
   ]
  },
  {
   "cell_type": "code",
   "execution_count": 16,
   "metadata": {},
   "outputs": [],
   "source": [
    "r1 = abs(rand(Int64)) % 2;\n",
    "r2 = abs(rand(Int64)) % 2;"
   ]
  },
  {
   "cell_type": "code",
   "execution_count": 21,
   "metadata": {},
   "outputs": [],
   "source": [
    "#PARTY 1\n",
    "ans1 = party_inps[1][1] & party_inps[1][2]\n",
    "\n",
    "ans1 = xor(ans, r1)\n",
    "\n",
    "a1 = ot(party_inps[1], r2, party_inps[2][2])\n",
    "\n",
    "ans1 = xor(ans1, a1);"
   ]
  },
  {
   "cell_type": "code",
   "execution_count": 22,
   "metadata": {},
   "outputs": [],
   "source": [
    "#PARTY 2\n",
    "ans2 = party_inps[2][2] & party_inps[2][2]\n",
    "\n",
    "ans2 = xor(ans, r2)\n",
    "\n",
    "a2 = ot(party_inps[2], r1, party_inps[1][2])\n",
    "\n",
    "ans2 = xor(ans2, a2);"
   ]
  },
  {
   "cell_type": "code",
   "execution_count": 23,
   "metadata": {},
   "outputs": [],
   "source": [
    "answer = xor(ans1, ans2);"
   ]
  },
  {
   "cell_type": "code",
   "execution_count": 24,
   "metadata": {},
   "outputs": [
    {
     "data": {
      "text/plain": [
       "true"
      ]
     },
     "execution_count": 24,
     "metadata": {},
     "output_type": "execute_result"
    }
   ],
   "source": [
    "inpts[1] & inpts[2] == answer"
   ]
  },
  {
   "cell_type": "code",
   "execution_count": null,
   "metadata": {},
   "outputs": [],
   "source": []
  }
 ],
 "metadata": {
  "kernelspec": {
   "display_name": "Julia 1.0.4",
   "language": "julia",
   "name": "julia-1.0"
  },
  "language_info": {
   "file_extension": ".jl",
   "mimetype": "application/julia",
   "name": "julia",
   "version": "1.0.4"
  }
 },
 "nbformat": 4,
 "nbformat_minor": 2
}
